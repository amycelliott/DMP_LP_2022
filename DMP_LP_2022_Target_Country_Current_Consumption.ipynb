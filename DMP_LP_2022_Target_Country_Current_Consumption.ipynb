{
  "nbformat": 4,
  "nbformat_minor": 0,
  "metadata": {
    "colab": {
      "provenance": [],
      "authorship_tag": "ABX9TyO8dWUUBSovvYyg+ZMLJGWR",
      "include_colab_link": true
    },
    "kernelspec": {
      "name": "python3",
      "display_name": "Python 3"
    },
    "language_info": {
      "name": "python"
    }
  },
  "cells": [
    {
      "cell_type": "markdown",
      "metadata": {
        "id": "view-in-github",
        "colab_type": "text"
      },
      "source": [
        "<a href=\"https://colab.research.google.com/github/amycelliott/DMP_LP_2022/blob/main/DMP_LP_2022_Target_Country_Current_Consumption.ipynb\" target=\"_parent\"><img src=\"https://colab.research.google.com/assets/colab-badge.svg\" alt=\"Open In Colab\"/></a>"
      ]
    },
    {
      "cell_type": "markdown",
      "source": [
        "# Import Pandas - Only need to run once"
      ],
      "metadata": {
        "id": "VIv4JtYwsMo2"
      }
    },
    {
      "cell_type": "code",
      "source": [
        "# Install Pandas\n",
        "#!pip install -U pandas~=1.2.4\n",
        "# plotly is used for simple visualizations.\n",
        "#!pip install -U plotly\n",
        "# Import Pandas and numpy\n",
        "import pandas as pd\n",
        "import numpy as np\n",
        "import matplotlib.pyplot as plt\n"
      ],
      "metadata": {
        "id": "dOCdRziJsGk5"
      },
      "execution_count": 5,
      "outputs": []
    },
    {
      "cell_type": "markdown",
      "source": [
        "# Load Data from GitHub\n",
        "\n",
        "\n",
        "\n",
        "Narrow down to specific columns\n",
        "\n",
        "**Key Fields**\n",
        "* iso_code\n",
        "* country\n",
        "* year\n",
        "\n",
        "**Energy Consumption**\n",
        "* biofuel_consumption\n",
        "* coal_consumption\n",
        "* fossil_fuel_consumption\n",
        "* gas_consumption\n",
        "* hydro_consumption\n",
        "* low_carbon_consumption\n",
        "* nuclear_consumption\n",
        "* oil_consumption\n",
        "* other_renewable_consumption\n",
        "* primary_energy_consumption\n",
        "* renewables_consumption\n",
        "* solar_consumption\n",
        "* wind_consumption"
      ],
      "metadata": {
        "id": "N2X_uWIrsSpo"
      }
    },
    {
      "cell_type": "code",
      "execution_count": 15,
      "metadata": {
        "colab": {
          "base_uri": "https://localhost:8080/"
        },
        "id": "NGIv257lsDy-",
        "outputId": "803c0dd5-0e56-4b95-9a2b-52692c372a46"
      },
      "outputs": [
        {
          "output_type": "stream",
          "name": "stdout",
          "text": [
            "       year\n",
            "min    2000\n",
            "max    2020\n",
            "count   229\n"
          ]
        }
      ],
      "source": [
        "\n",
        "# Import the files that will be used\n",
        "from tempfile import mkdtemp\n",
        "from urllib.request import urlretrieve\n",
        "\n",
        "tmp_dir = mkdtemp()\n",
        "\n",
        "# Upload All Data\n",
        "all_data_csv_path = f\"{tmp_dir}/world_energy_consumption_all.csv\"\n",
        "urlretrieve(\"https://github.com/amycelliott/DMP_LP_2022/blob/main/files/World_Energy_Consumption.csv?raw=true\", all_data_csv_path)\n",
        "\n",
        "df_all_data = pd.read_csv(\n",
        "    all_data_csv_path, \n",
        "    # Only pull in columns needed\n",
        "    usecols=[\"iso_code\",\"country\",\"year\",\"biofuel_consumption\",\"coal_consumption\",\"fossil_fuel_consumption\",\"gas_consumption\",\"hydro_consumption\",\"low_carbon_consumption\",\"nuclear_consumption\",\"oil_consumption\",\"other_renewable_consumption\",\"primary_energy_consumption\",\"renewables_consumption\",\"solar_consumption\",\"wind_consumption\"],\n",
        ")\n",
        "\n",
        "\n",
        "# after loading, we can explore the data in all different ways pandas support\n",
        "# No need to do this yet\n",
        "df_all_data = df_all_data.sort_values('year', ascending=False)\n",
        "\n",
        "# We have only been looking at data from 2000 forward, filter out the older data\n",
        "df_all_data = df_all_data.query('`year` >= 2000')\n",
        "\n",
        "# Only look at the top countries we are interested in\n",
        "          # Obvious Choices\n",
        "          # United States - Has dropped from #1 to #2 - however, it is still one of the top electricy usage\n",
        "          # China - #2 to #1 - Shows growth and has high usage\n",
        "          # Canada - Increased ranking slightly and a solid top choice\n",
        "\n",
        "          # Areas of Growth\n",
        "          # India - #6 to #3\n",
        "          # South Korea\n",
        "          # Brazil\n",
        "          # Iran\n",
        "          # Saudi Arabia\n",
        "          # Indonesia\n",
        "          # Turkey\n",
        "          # Thalind Thailand\n",
        "          # United Arib Emerits\n",
        "          # Vietnom\n",
        "df_all_data = df_all_data[df_all_data['country'].isin(['United States','China','Canada','India','South Korea','Brazil','Iran','Saudi Arabia','Indonesia','Turkey','Thailand','United Arib Emerits','Vietnom'])]\n",
        "\n",
        "#Verify we filtered out older data\n",
        "all_data_agg_year = df_all_data.agg({'year': ['min', 'max','count']})\n",
        "print(all_data_agg_year)\n"
      ]
    },
    {
      "cell_type": "markdown",
      "source": [
        "# Evaluate NULL Values\n"
      ],
      "metadata": {
        "id": "xGRp7btN4J4C"
      }
    },
    {
      "cell_type": "code",
      "source": [
        "df_all_data.isnull().sum()"
      ],
      "metadata": {
        "colab": {
          "base_uri": "https://localhost:8080/"
        },
        "id": "fVzcXCJWzfyy",
        "outputId": "e47149e0-112b-404c-941e-ca186ec56390"
      },
      "execution_count": 16,
      "outputs": [
        {
          "output_type": "execute_result",
          "data": {
            "text/plain": [
              "iso_code                       0\n",
              "country                        0\n",
              "year                           0\n",
              "biofuel_consumption            9\n",
              "coal_consumption               9\n",
              "fossil_fuel_consumption        9\n",
              "gas_consumption                9\n",
              "hydro_consumption              9\n",
              "low_carbon_consumption         9\n",
              "nuclear_consumption            9\n",
              "oil_consumption                9\n",
              "other_renewable_consumption    9\n",
              "primary_energy_consumption     9\n",
              "renewables_consumption         9\n",
              "solar_consumption              9\n",
              "wind_consumption               9\n",
              "dtype: int64"
            ]
          },
          "metadata": {},
          "execution_count": 16
        }
      ]
    }
  ]
}