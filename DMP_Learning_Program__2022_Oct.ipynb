{
  "nbformat": 4,
  "nbformat_minor": 0,
  "metadata": {
    "colab": {
      "provenance": [],
      "toc_visible": true,
      "collapsed_sections": [],
      "include_colab_link": true
    },
    "kernelspec": {
      "name": "python3",
      "display_name": "Python 3"
    },
    "language_info": {
      "name": "python"
    }
  },
  "cells": [
    {
      "cell_type": "markdown",
      "metadata": {
        "id": "view-in-github",
        "colab_type": "text"
      },
      "source": [
        "<a href=\"https://colab.research.google.com/github/amycelliott/DMP_LP_2022/blob/main/DMP_Learning_Program__2022_Oct.ipynb\" target=\"_parent\"><img src=\"https://colab.research.google.com/assets/colab-badge.svg\" alt=\"Open In Colab\"/></a>"
      ]
    },
    {
      "cell_type": "markdown",
      "source": [
        "# Help / Notes\n",
        "\n",
        "I'm new to Pandas, so the below is a way to search and see what is there.  This can be used to evaluate some of the data.  One of the examples has me using data frames, so I used that as the example of how to drill down.\n",
        "\n",
        "dr(pd) <-- List of Everything\n",
        "\n",
        "dr(pd.DataFrame) <-- List of what you can do with a Data Frame\n"
      ],
      "metadata": {
        "id": "P-VJPHhkogKi"
      }
    },
    {
      "cell_type": "code",
      "source": [
        "import pandas as pd\n",
        "\n",
        "# This will get an overview of what can be done in Pandas\n",
        "# dir(pd)\n",
        "\n",
        "# To drill down to the next level of Pandas - DataFrames for example\n",
        "dir(pd.DataFrame)"
      ],
      "metadata": {
        "colab": {
          "base_uri": "https://localhost:8080/"
        },
        "id": "j3NG5vK1nGc1",
        "outputId": "f6c351a3-aa81-4ea5-de02-c465a798aae0"
      },
      "execution_count": 2,
      "outputs": [
        {
          "output_type": "execute_result",
          "data": {
            "text/plain": [
              "['T',\n",
              " '_AXIS_LEN',\n",
              " '_AXIS_NAMES',\n",
              " '_AXIS_NUMBERS',\n",
              " '_AXIS_ORDERS',\n",
              " '_AXIS_REVERSED',\n",
              " '_AXIS_TO_AXIS_NUMBER',\n",
              " '_HANDLED_TYPES',\n",
              " '__abs__',\n",
              " '__add__',\n",
              " '__and__',\n",
              " '__annotations__',\n",
              " '__array__',\n",
              " '__array_priority__',\n",
              " '__array_ufunc__',\n",
              " '__array_wrap__',\n",
              " '__bool__',\n",
              " '__class__',\n",
              " '__contains__',\n",
              " '__copy__',\n",
              " '__deepcopy__',\n",
              " '__delattr__',\n",
              " '__delitem__',\n",
              " '__dict__',\n",
              " '__dir__',\n",
              " '__divmod__',\n",
              " '__doc__',\n",
              " '__eq__',\n",
              " '__finalize__',\n",
              " '__floordiv__',\n",
              " '__format__',\n",
              " '__ge__',\n",
              " '__getattr__',\n",
              " '__getattribute__',\n",
              " '__getitem__',\n",
              " '__getstate__',\n",
              " '__gt__',\n",
              " '__hash__',\n",
              " '__iadd__',\n",
              " '__iand__',\n",
              " '__ifloordiv__',\n",
              " '__imod__',\n",
              " '__imul__',\n",
              " '__init__',\n",
              " '__init_subclass__',\n",
              " '__invert__',\n",
              " '__ior__',\n",
              " '__ipow__',\n",
              " '__isub__',\n",
              " '__iter__',\n",
              " '__itruediv__',\n",
              " '__ixor__',\n",
              " '__le__',\n",
              " '__len__',\n",
              " '__lt__',\n",
              " '__matmul__',\n",
              " '__mod__',\n",
              " '__module__',\n",
              " '__mul__',\n",
              " '__ne__',\n",
              " '__neg__',\n",
              " '__new__',\n",
              " '__nonzero__',\n",
              " '__or__',\n",
              " '__pos__',\n",
              " '__pow__',\n",
              " '__radd__',\n",
              " '__rand__',\n",
              " '__rdivmod__',\n",
              " '__reduce__',\n",
              " '__reduce_ex__',\n",
              " '__repr__',\n",
              " '__rfloordiv__',\n",
              " '__rmatmul__',\n",
              " '__rmod__',\n",
              " '__rmul__',\n",
              " '__ror__',\n",
              " '__round__',\n",
              " '__rpow__',\n",
              " '__rsub__',\n",
              " '__rtruediv__',\n",
              " '__rxor__',\n",
              " '__setattr__',\n",
              " '__setitem__',\n",
              " '__setstate__',\n",
              " '__sizeof__',\n",
              " '__str__',\n",
              " '__sub__',\n",
              " '__subclasshook__',\n",
              " '__truediv__',\n",
              " '__weakref__',\n",
              " '__xor__',\n",
              " '_accessors',\n",
              " '_accum_func',\n",
              " '_add_numeric_operations',\n",
              " '_agg_by_level',\n",
              " '_agg_examples_doc',\n",
              " '_agg_summary_and_see_also_doc',\n",
              " '_align_frame',\n",
              " '_align_series',\n",
              " '_arith_method',\n",
              " '_as_manager',\n",
              " '_box_col_values',\n",
              " '_can_fast_transpose',\n",
              " '_check_inplace_and_allows_duplicate_labels',\n",
              " '_check_inplace_setting',\n",
              " '_check_is_chained_assignment_possible',\n",
              " '_check_label_or_level_ambiguity',\n",
              " '_check_setitem_copy',\n",
              " '_clear_item_cache',\n",
              " '_clip_with_one_bound',\n",
              " '_clip_with_scalar',\n",
              " '_cmp_method',\n",
              " '_combine_frame',\n",
              " '_consolidate',\n",
              " '_consolidate_inplace',\n",
              " '_construct_axes_dict',\n",
              " '_construct_axes_from_arguments',\n",
              " '_construct_result',\n",
              " '_constructor',\n",
              " '_constructor_sliced',\n",
              " '_convert',\n",
              " '_count_level',\n",
              " '_data',\n",
              " '_dir_additions',\n",
              " '_dir_deletions',\n",
              " '_dispatch_frame_op',\n",
              " '_drop_axis',\n",
              " '_drop_labels_or_levels',\n",
              " '_ensure_valid_index',\n",
              " '_find_valid_index',\n",
              " '_from_arrays',\n",
              " '_from_mgr',\n",
              " '_get_agg_axis',\n",
              " '_get_axis',\n",
              " '_get_axis_name',\n",
              " '_get_axis_number',\n",
              " '_get_axis_resolvers',\n",
              " '_get_block_manager_axis',\n",
              " '_get_bool_data',\n",
              " '_get_cleaned_column_resolvers',\n",
              " '_get_column_array',\n",
              " '_get_index_resolvers',\n",
              " '_get_item_cache',\n",
              " '_get_label_or_level_values',\n",
              " '_get_numeric_data',\n",
              " '_get_value',\n",
              " '_getitem_bool_array',\n",
              " '_getitem_multilevel',\n",
              " '_gotitem',\n",
              " '_hidden_attrs',\n",
              " '_indexed_same',\n",
              " '_info_axis',\n",
              " '_info_axis_name',\n",
              " '_info_axis_number',\n",
              " '_info_repr',\n",
              " '_init_mgr',\n",
              " '_inplace_method',\n",
              " '_internal_names',\n",
              " '_internal_names_set',\n",
              " '_is_copy',\n",
              " '_is_homogeneous_type',\n",
              " '_is_label_or_level_reference',\n",
              " '_is_label_reference',\n",
              " '_is_level_reference',\n",
              " '_is_mixed_type',\n",
              " '_is_view',\n",
              " '_iset_item',\n",
              " '_iset_item_mgr',\n",
              " '_iset_not_inplace',\n",
              " '_iter_column_arrays',\n",
              " '_ixs',\n",
              " '_join_compat',\n",
              " '_logical_func',\n",
              " '_logical_method',\n",
              " '_maybe_cache_changed',\n",
              " '_maybe_update_cacher',\n",
              " '_metadata',\n",
              " '_min_count_stat_function',\n",
              " '_needs_reindex_multi',\n",
              " '_protect_consolidate',\n",
              " '_reduce',\n",
              " '_reindex_axes',\n",
              " '_reindex_columns',\n",
              " '_reindex_index',\n",
              " '_reindex_multi',\n",
              " '_reindex_with_indexers',\n",
              " '_replace_columnwise',\n",
              " '_repr_data_resource_',\n",
              " '_repr_fits_horizontal_',\n",
              " '_repr_fits_vertical_',\n",
              " '_repr_html_',\n",
              " '_repr_latex_',\n",
              " '_reset_cache',\n",
              " '_reset_cacher',\n",
              " '_sanitize_column',\n",
              " '_series',\n",
              " '_set_axis',\n",
              " '_set_axis_name',\n",
              " '_set_axis_nocheck',\n",
              " '_set_is_copy',\n",
              " '_set_item',\n",
              " '_set_item_frame_value',\n",
              " '_set_item_mgr',\n",
              " '_set_value',\n",
              " '_setitem_array',\n",
              " '_setitem_frame',\n",
              " '_setitem_slice',\n",
              " '_slice',\n",
              " '_stat_axis',\n",
              " '_stat_axis_name',\n",
              " '_stat_axis_number',\n",
              " '_stat_function',\n",
              " '_stat_function_ddof',\n",
              " '_take_with_is_copy',\n",
              " '_to_dict_of_blocks',\n",
              " '_typ',\n",
              " '_update_inplace',\n",
              " '_validate_dtype',\n",
              " '_values',\n",
              " '_where',\n",
              " 'abs',\n",
              " 'add',\n",
              " 'add_prefix',\n",
              " 'add_suffix',\n",
              " 'agg',\n",
              " 'aggregate',\n",
              " 'align',\n",
              " 'all',\n",
              " 'any',\n",
              " 'append',\n",
              " 'apply',\n",
              " 'applymap',\n",
              " 'asfreq',\n",
              " 'asof',\n",
              " 'assign',\n",
              " 'astype',\n",
              " 'at',\n",
              " 'at_time',\n",
              " 'attrs',\n",
              " 'axes',\n",
              " 'backfill',\n",
              " 'between_time',\n",
              " 'bfill',\n",
              " 'bool',\n",
              " 'boxplot',\n",
              " 'clip',\n",
              " 'columns',\n",
              " 'combine',\n",
              " 'combine_first',\n",
              " 'compare',\n",
              " 'convert_dtypes',\n",
              " 'copy',\n",
              " 'corr',\n",
              " 'corrwith',\n",
              " 'count',\n",
              " 'cov',\n",
              " 'cummax',\n",
              " 'cummin',\n",
              " 'cumprod',\n",
              " 'cumsum',\n",
              " 'describe',\n",
              " 'diff',\n",
              " 'div',\n",
              " 'divide',\n",
              " 'dot',\n",
              " 'drop',\n",
              " 'drop_duplicates',\n",
              " 'droplevel',\n",
              " 'dropna',\n",
              " 'dtypes',\n",
              " 'duplicated',\n",
              " 'empty',\n",
              " 'eq',\n",
              " 'equals',\n",
              " 'eval',\n",
              " 'ewm',\n",
              " 'expanding',\n",
              " 'explode',\n",
              " 'ffill',\n",
              " 'fillna',\n",
              " 'filter',\n",
              " 'first',\n",
              " 'first_valid_index',\n",
              " 'flags',\n",
              " 'floordiv',\n",
              " 'from_dict',\n",
              " 'from_records',\n",
              " 'ge',\n",
              " 'get',\n",
              " 'groupby',\n",
              " 'gt',\n",
              " 'head',\n",
              " 'hist',\n",
              " 'iat',\n",
              " 'idxmax',\n",
              " 'idxmin',\n",
              " 'iloc',\n",
              " 'index',\n",
              " 'infer_objects',\n",
              " 'info',\n",
              " 'insert',\n",
              " 'interpolate',\n",
              " 'isin',\n",
              " 'isna',\n",
              " 'isnull',\n",
              " 'items',\n",
              " 'iteritems',\n",
              " 'iterrows',\n",
              " 'itertuples',\n",
              " 'join',\n",
              " 'keys',\n",
              " 'kurt',\n",
              " 'kurtosis',\n",
              " 'last',\n",
              " 'last_valid_index',\n",
              " 'le',\n",
              " 'loc',\n",
              " 'lookup',\n",
              " 'lt',\n",
              " 'mad',\n",
              " 'mask',\n",
              " 'max',\n",
              " 'mean',\n",
              " 'median',\n",
              " 'melt',\n",
              " 'memory_usage',\n",
              " 'merge',\n",
              " 'min',\n",
              " 'mod',\n",
              " 'mode',\n",
              " 'mul',\n",
              " 'multiply',\n",
              " 'ndim',\n",
              " 'ne',\n",
              " 'nlargest',\n",
              " 'notna',\n",
              " 'notnull',\n",
              " 'nsmallest',\n",
              " 'nunique',\n",
              " 'pad',\n",
              " 'pct_change',\n",
              " 'pipe',\n",
              " 'pivot',\n",
              " 'pivot_table',\n",
              " 'plot',\n",
              " 'pop',\n",
              " 'pow',\n",
              " 'prod',\n",
              " 'product',\n",
              " 'quantile',\n",
              " 'query',\n",
              " 'radd',\n",
              " 'rank',\n",
              " 'rdiv',\n",
              " 'reindex',\n",
              " 'reindex_like',\n",
              " 'rename',\n",
              " 'rename_axis',\n",
              " 'reorder_levels',\n",
              " 'replace',\n",
              " 'resample',\n",
              " 'reset_index',\n",
              " 'rfloordiv',\n",
              " 'rmod',\n",
              " 'rmul',\n",
              " 'rolling',\n",
              " 'round',\n",
              " 'rpow',\n",
              " 'rsub',\n",
              " 'rtruediv',\n",
              " 'sample',\n",
              " 'select_dtypes',\n",
              " 'sem',\n",
              " 'set_axis',\n",
              " 'set_flags',\n",
              " 'set_index',\n",
              " 'shape',\n",
              " 'shift',\n",
              " 'size',\n",
              " 'skew',\n",
              " 'slice_shift',\n",
              " 'sort_index',\n",
              " 'sort_values',\n",
              " 'sparse',\n",
              " 'squeeze',\n",
              " 'stack',\n",
              " 'std',\n",
              " 'style',\n",
              " 'sub',\n",
              " 'subtract',\n",
              " 'sum',\n",
              " 'swapaxes',\n",
              " 'swaplevel',\n",
              " 'tail',\n",
              " 'take',\n",
              " 'to_clipboard',\n",
              " 'to_csv',\n",
              " 'to_dict',\n",
              " 'to_excel',\n",
              " 'to_feather',\n",
              " 'to_gbq',\n",
              " 'to_hdf',\n",
              " 'to_html',\n",
              " 'to_json',\n",
              " 'to_latex',\n",
              " 'to_markdown',\n",
              " 'to_numpy',\n",
              " 'to_parquet',\n",
              " 'to_period',\n",
              " 'to_pickle',\n",
              " 'to_records',\n",
              " 'to_sql',\n",
              " 'to_stata',\n",
              " 'to_string',\n",
              " 'to_timestamp',\n",
              " 'to_xarray',\n",
              " 'to_xml',\n",
              " 'transform',\n",
              " 'transpose',\n",
              " 'truediv',\n",
              " 'truncate',\n",
              " 'tshift',\n",
              " 'tz_convert',\n",
              " 'tz_localize',\n",
              " 'unstack',\n",
              " 'update',\n",
              " 'value_counts',\n",
              " 'values',\n",
              " 'var',\n",
              " 'where',\n",
              " 'xs']"
            ]
          },
          "metadata": {},
          "execution_count": 2
        }
      ]
    },
    {
      "cell_type": "markdown",
      "source": [
        "# Dependencies\n",
        "\n",
        "\n",
        "*  Basically load what's needed (I only loaded what I knew I would use)\n",
        "*  Test and verify you are running the right version of Pandas\n",
        "\n",
        "\n",
        "\n",
        "See this website for more detail: https://colab.research.google.com/gist/pimlock/91e0021e53f24ea7e1244829e5235712/loading-data-into-dataframe.ipynb#scrollTo=pJLjOxlmF4iG"
      ],
      "metadata": {
        "id": "nWvkqTSXFQoH"
      }
    },
    {
      "cell_type": "code",
      "execution_count": null,
      "metadata": {
        "id": "ocHT1_d9q25Q"
      },
      "outputs": [],
      "source": [
        "%%capture\n",
        "\n",
        "!pip install -U pandas~=1.2.4\n",
        "\n",
        "# required only when reading Excel files\n",
        "!pip install -U xlrd~=1.2.0\n",
        "\n",
        "# plotly is used for simple visualizations.\n",
        "!pip install -U plotly"
      ]
    },
    {
      "cell_type": "code",
      "source": [
        "# verify pandas version (this notebook requires pandas=1.2.0 or higher)\n",
        "import pandas as pd\n",
        "\n",
        "# pd.show_versions()\n",
        "\n",
        "if pd.__version__ < \"1.2.0\":\n",
        "  raise Exception(\"This notebook requires pandas version to be > 1.2.0. \"\n",
        "    f\"pandas version in this notebook is {pd.__version__}. \"\n",
        "    \"If you run into this issue, you will need to restart the runtime \"\n",
        "    \"selecting 'Runtime -> Restart and run all'\"\n",
        "  )"
      ],
      "metadata": {
        "id": "pxZwWBzQE_oY"
      },
      "execution_count": null,
      "outputs": []
    },
    {
      "cell_type": "markdown",
      "source": [
        "# Logging\n",
        "\n",
        "Not sure, but this could be helpful..."
      ],
      "metadata": {
        "id": "i1MzbiEeFqPs"
      }
    },
    {
      "cell_type": "code",
      "source": [
        "import logging, sys\n",
        "\n",
        "logging.basicConfig(\n",
        "    format=\"%(asctime)s.%(msecs)03dZ - %(levelname)s - %(name)s - %(message)s\",\n",
        "    datefmt=\"%Y-%m-%dT%H:%M:%S\",\n",
        "    level=logging.INFO,\n",
        "    stream=sys.stdout\n",
        ")\n",
        "\n",
        "logger = logging.getLogger(__name__)\n",
        "\n",
        "logging.getLogger('botocore').setLevel(logging.INFO)\n",
        "logging.getLogger('fsspec').setLevel(logging.DEBUG)"
      ],
      "metadata": {
        "id": "NaWTzb05EUii"
      },
      "execution_count": null,
      "outputs": []
    },
    {
      "cell_type": "markdown",
      "source": [
        "# Import Files \n",
        "\n",
        "**Step 1: Import from GitHub**\n",
        "\n",
        "Notes\n",
        "\n",
        "I read that we need to use the URL to raw content, I saw that you can just put ?raw=true at the end of the url.  It appeared to work when I looked in the browser.\n",
        "\n",
        "\n",
        "All Data is in this file\n",
        "https://github.com/amycelliott/DMP_LP_2022/blob/main/files/World_Energy_Consumption.csv?raw=true\n",
        "\n",
        "Just basic fields for Region\n",
        "https://github.com/amycelliott/DMP_LP_2022/blob/main/files/Regions_Basic_Fields.csv?raw=true\n",
        "\n",
        "Just basic fields for Countries\n",
        "https://github.com/amycelliott/DMP_LP_2022/blob/main/files/Countries_Basic_Fields.csv?raw=true"
      ],
      "metadata": {
        "id": "EO-5bqqeJUWJ"
      }
    },
    {
      "cell_type": "code",
      "source": [
        "from tempfile import mkdtemp\n",
        "from urllib.request import urlretrieve\n",
        "\n",
        "tmp_dir = mkdtemp()\n",
        "\n",
        "# CSV to load from disk\n",
        "# Upload Region Basic Fields\n",
        "region_basic_csv_path = f\"{tmp_dir}/Regions_Basic_Fields.csv\"\n",
        "urlretrieve(\"https://github.com/amycelliott/DMP_LP_2022/blob/main/files/Regions_Basic_Fields.csv?raw=true\", region_basic_csv_path)\n",
        "logger.info(f\"Downloaded sample CSV file to {region_basic_csv_path}\")\n",
        "\n",
        "# Upload Countries Basic Fields\n",
        "countries_basic_csv_path = f\"{tmp_dir}/Countries_Basic_Fields.csv\"\n",
        "urlretrieve(\"https://github.com/amycelliott/DMP_LP_2022/blob/main/files/Countries_Basic_Fields.csv?raw=true\", countries_basic_csv_path)\n",
        "logger.info(f\"Downloaded sample CSV file to {countries_basic_csv_path}\")\n",
        "\n",
        "\n",
        "# Upload All Data\n",
        "all_data_csv_path = f\"{tmp_dir}/world_energy_consumption_all.csv\"\n",
        "urlretrieve(\"https://github.com/amycelliott/DMP_LP_2022/blob/main/files/World_Energy_Consumption.csv?raw=true\", all_data_csv_path)\n",
        "logger.info(f\"Downloaded sample CSV file to {all_data_csv_path}\")"
      ],
      "metadata": {
        "id": "zrRHHixVKWUT"
      },
      "execution_count": null,
      "outputs": []
    },
    {
      "cell_type": "markdown",
      "source": [
        "**Step 2: Load CSV For Region Basic Data**\n",
        "\n",
        "Time to make sure we can pull the data from the Regions Basic Fields.\n",
        "\n",
        "Field names: country,year,energy_per_gdp,energy_per_capita,per_capita_electricity,population,primary_energy_consumption,gdp"
      ],
      "metadata": {
        "id": "H_FuUgehh5ho"
      }
    },
    {
      "cell_type": "code",
      "source": [
        "import pandas as pd\n",
        "import numpy as np\n",
        "\n",
        "df_region_basic = pd.read_csv(\n",
        "    region_basic_csv_path, \n",
        "    # if your dataset doesn't have column names in the first row, you need to specify them like this\n",
        "    #header=0, names=[\"country\", \"year\", \"energy_per_gdp\", \"energy_per_capita\", \"per_capita_electricity\", \"population\", \"primary_energy_consumption\", \"gdp\"]\n",
        ")\n",
        "\n",
        "df_region_basic.info()\n",
        "\n",
        "# after loading, we can explore the data in all different ways pandas support\n",
        "# No need to do this yet\n",
        "# df_region_basic = df_region_basic.sort_values('year', ascending=False)"
      ],
      "metadata": {
        "colab": {
          "base_uri": "https://localhost:8080/"
        },
        "id": "_EDsZlO4iKt9",
        "outputId": "098c8ef8-a4bf-4fe0-9194-e5c115826df9"
      },
      "execution_count": null,
      "outputs": [
        {
          "output_type": "stream",
          "name": "stdout",
          "text": [
            "<class 'pandas.core.frame.DataFrame'>\n",
            "RangeIndex: 1528 entries, 0 to 1527\n",
            "Data columns (total 8 columns):\n",
            " #   Column                      Non-Null Count  Dtype  \n",
            "---  ------                      --------------  -----  \n",
            " 0   country                     1528 non-null   object \n",
            " 1   year                        1528 non-null   int64  \n",
            " 2   energy_per_gdp              0 non-null      float64\n",
            " 3   energy_per_capita           165 non-null    float64\n",
            " 4   per_capita_electricity      105 non-null    float64\n",
            " 5   population                  225 non-null    float64\n",
            " 6   primary_energy_consumption  1156 non-null   float64\n",
            " 7   gdp                         0 non-null      float64\n",
            "dtypes: float64(6), int64(1), object(1)\n",
            "memory usage: 95.6+ KB\n"
          ]
        }
      ]
    },
    {
      "cell_type": "markdown",
      "source": [
        "**Step 3: Load CSV For Country Basic Data**"
      ],
      "metadata": {
        "id": "J8A9TkKEkQTi"
      }
    },
    {
      "cell_type": "code",
      "source": [
        "import pandas as pd\n",
        "import numpy as np\n",
        "\n",
        "df_country_basic = pd.read_csv(\n",
        "    countries_basic_csv_path, \n",
        "    # if your dataset doesn't have column names in the first row, you need to specify them like this\n",
        "    #header=0, names=[\"iso_code\",\"country\", \"year\", \"energy_per_gdp\", \"energy_per_capita\", \"per_capita_electricity\", \"population\", \"primary_energy_consumption\", \"gdp\"]\n",
        ")\n",
        "\n",
        "df_country_basic.info()"
      ],
      "metadata": {
        "colab": {
          "base_uri": "https://localhost:8080/"
        },
        "id": "RgJmd40Bka92",
        "outputId": "f7876330-c87d-408c-8af7-63ebcb4a53c2"
      },
      "execution_count": null,
      "outputs": [
        {
          "output_type": "stream",
          "name": "stdout",
          "text": [
            "<class 'pandas.core.frame.DataFrame'>\n",
            "RangeIndex: 15630 entries, 0 to 15629\n",
            "Data columns (total 9 columns):\n",
            " #   Column                      Non-Null Count  Dtype  \n",
            "---  ------                      --------------  -----  \n",
            " 0   iso_code                    15630 non-null  object \n",
            " 1   country                     15630 non-null  object \n",
            " 2   year                        15630 non-null  int64  \n",
            " 3   energy_per_gdp              6887 non-null   float64\n",
            " 4   energy_per_capita           8833 non-null   float64\n",
            " 5   per_capita_electricity      5374 non-null   float64\n",
            " 6   population                  15411 non-null  float64\n",
            " 7   primary_energy_consumption  8916 non-null   float64\n",
            " 8   gdp                         10366 non-null  float64\n",
            "dtypes: float64(6), int64(1), object(2)\n",
            "memory usage: 1.1+ MB\n"
          ]
        }
      ]
    },
    {
      "cell_type": "code",
      "source": [
        "import pandas as pd\n",
        "import numpy as np\n",
        "\n",
        "df_all_data = pd.read_csv(\n",
        "    all_data_csv_path, \n",
        "    # if your dataset doesn't have column names in the first row, you need to specify them like this\n",
        "    #header=0, names=[\"iso_code\",\"country\", \"year\", \"energy_per_gdp\", \"energy_per_capita\", \"per_capita_electricity\", \"population\", \"primary_energy_consumption\", \"gdp\"]\n",
        ")\n",
        "\n",
        "df_all_data.info()"
      ],
      "metadata": {
        "colab": {
          "base_uri": "https://localhost:8080/"
        },
        "id": "cxxBrSwrppRi",
        "outputId": "91ff67fe-42b6-4cd7-ca13-ca6d4d9c048f"
      },
      "execution_count": null,
      "outputs": [
        {
          "output_type": "stream",
          "name": "stdout",
          "text": [
            "<class 'pandas.core.frame.DataFrame'>\n",
            "RangeIndex: 17432 entries, 0 to 17431\n",
            "Columns: 122 entries, iso_code to wind_energy_per_capita\n",
            "dtypes: float64(119), int64(1), object(2)\n",
            "memory usage: 16.2+ MB\n"
          ]
        }
      ]
    },
    {
      "cell_type": "markdown",
      "source": [
        "# Evaluate the Data\n"
      ],
      "metadata": {
        "id": "y8iN488XsxgV"
      }
    },
    {
      "cell_type": "markdown",
      "source": [
        "Try to understand the min and max dates for each country\n",
        "Source: https://www.geeksforgeeks.org/pandas-groupby-one-column-and-get-mean-min-and-max-values/"
      ],
      "metadata": {
        "id": "w0NOfBaevwyv"
      }
    },
    {
      "cell_type": "code",
      "source": [
        "# use group by function with aggreagation to get min/max values\n",
        "\n",
        "all_data_agg_year = df_all_data.groupby('country').agg({'year': ['min', 'max','count']})\n",
        "\n",
        "# Sort by max year desc \n",
        "\n",
        "# NEED TO FIX BELOW ERROR, this might help: https://stackoverflow.com/questions/42252273/python-pandas-sorting-after-groupby-and-aggregate\n",
        "# I'm done for the day and will come back to this later.\n",
        "#all_data_agg_year = all_data_agg_year.sort_values(by='year', ascending=False)\n",
        "\n",
        "print(all_data_agg_year)"
      ],
      "metadata": {
        "colab": {
          "base_uri": "https://localhost:8080/"
        },
        "id": "GGoWN-hxuj90",
        "outputId": "082b68ec-64db-4787-f294-88030b9f8ba0"
      },
      "execution_count": null,
      "outputs": [
        {
          "output_type": "stream",
          "name": "stdout",
          "text": [
            "                year            \n",
            "                 min   max count\n",
            "country                         \n",
            "Afghanistan     1900  2019   120\n",
            "Africa          1900  2019   120\n",
            "Albania         1900  2019   120\n",
            "Algeria         1900  2019   120\n",
            "American Samoa  1980  2019    40\n",
            "...              ...   ...   ...\n",
            "World           1900  2020   121\n",
            "Yemen           1970  2019    50\n",
            "Yugoslavia      1900  2016   117\n",
            "Zambia          1900  2019   120\n",
            "Zimbabwe        1900  2019   120\n",
            "\n",
            "[242 rows x 3 columns]\n"
          ]
        }
      ]
    },
    {
      "cell_type": "markdown",
      "source": [
        "# **Correlation basic region data**\n"
      ],
      "metadata": {
        "id": "fH8DalDM1JaD"
      }
    },
    {
      "cell_type": "code",
      "source": [
        "import matplotlib.pyplot as mp\n",
        "\n",
        "import seaborn as sb\n",
        "\n",
        "#drop columns that contain no values\n",
        "df_region_basic_drop = df_region_basic.drop(['energy_per_gdp','gdp'], axis=1)\n",
        "# prints data that will be plotted\n",
        "# columns shown here are selected by corr() since\n",
        "# they are ideal for the plot\n",
        "\n",
        "df_region_basic_drop.corr()\n",
        "  \n",
        "sb.heatmap(df_region_basic_drop.corr(), vmin = -1, vmax = +1, annot = True, cmap = 'coolwarm')\n"
      ],
      "metadata": {
        "colab": {
          "base_uri": "https://localhost:8080/",
          "height": 425
        },
        "id": "9twxp2ma1OWa",
        "outputId": "121bde52-537e-49ed-9c54-998391b8943a"
      },
      "execution_count": null,
      "outputs": [
        {
          "output_type": "execute_result",
          "data": {
            "text/plain": [
              "<matplotlib.axes._subplots.AxesSubplot at 0x7fb25a9a1e10>"
            ]
          },
          "metadata": {},
          "execution_count": 10
        },
        {
          "output_type": "display_data",
          "data": {
            "text/plain": [
              "<Figure size 432x288 with 2 Axes>"
            ],
            "image/png": "[encoded data removed]"
          },
          "metadata": {
            "needs_background": "light"
          }
        }
      ]
    },
    {
      "cell_type": "markdown",
      "source": [
        "# Correlation - country data"
      ],
      "metadata": {
        "id": "sRViU3FM7T5v"
      }
    },
    {
      "cell_type": "code",
      "source": [
        "# prints data that will be plotted\n",
        "# columns shown here are selected by corr() since\n",
        "# they are ideal for the plot\n",
        "\n",
        "df_country_basic.corr()\n",
        "  \n",
        "sb.heatmap(df_country_basic.corr(), vmin = -1, vmax = +1, annot = True, cmap = 'coolwarm')"
      ],
      "metadata": {
        "colab": {
          "base_uri": "https://localhost:8080/",
          "height": 425
        },
        "id": "SDoSL_tU7esh",
        "outputId": "8d403590-4f55-4750-bf60-d39cc517bad8"
      },
      "execution_count": null,
      "outputs": [
        {
          "output_type": "execute_result",
          "data": {
            "text/plain": [
              "<matplotlib.axes._subplots.AxesSubplot at 0x7fb257bda790>"
            ]
          },
          "metadata": {},
          "execution_count": 11
        },
        {
          "output_type": "display_data",
          "data": {
            "text/plain": [
              "<Figure size 432x288 with 2 Axes>"
            ],
            "image/png": "[encoded data removed]"
          },
          "metadata": {
            "needs_background": "light"
          }
        }
      ]
    },
    {
      "cell_type": "markdown",
      "source": [
        "Energy consumption worldwide since 1900"
      ],
      "metadata": {
        "id": "YCBzlPpHfY6A"
      }
    },
    {
      "cell_type": "code",
      "source": [
        "year_plt = df_all_data.groupby('year')[['energy_per_capita','population','primary_energy_consumption']].sum()\n",
        "display(year_plt)"
      ],
      "metadata": {
        "colab": {
          "base_uri": "https://localhost:8080/",
          "height": 455
        },
        "id": "9zl1Z5EJdSZz",
        "outputId": "1636cc2d-10fa-41c2-f958-71fe77bd6aa5"
      },
      "execution_count": null,
      "outputs": [
        {
          "output_type": "display_data",
          "data": {
            "text/plain": [
              "      energy_per_capita    population  primary_energy_consumption\n",
              "year                                                             \n",
              "1900              0.000  3.752218e+09                       0.000\n",
              "1901              0.000  3.130448e+09                       0.000\n",
              "1902              0.000  3.152393e+09                       0.000\n",
              "1903              0.000  3.174763e+09                       0.000\n",
              "1904              0.000  3.197334e+09                       0.000\n",
              "...                 ...           ...                         ...\n",
              "2016        7332147.946  1.724308e+10                  476124.282\n",
              "2017        3678183.705  1.741803e+10                  467018.352\n",
              "2018        3698476.648  1.761886e+10                  480191.058\n",
              "2019        3659567.475  1.781811e+10                  486582.867\n",
              "2020              0.000  0.000000e+00                       0.000\n",
              "\n",
              "[121 rows x 3 columns]"
            ],
            "text/html": [
              "\n",
              "  <div id=\"df-15a69be9-1e7b-4448-a608-b22bee835e31\">\n",
              "    <div class=\"colab-df-container\">\n",
              "      <div>\n",
              "<style scoped>\n",
              "    .dataframe tbody tr th:only-of-type {\n",
              "        vertical-align: middle;\n",
              "    }\n",
              "\n",
              "    .dataframe tbody tr th {\n",
              "        vertical-align: top;\n",
              "    }\n",
              "\n",
              "    .dataframe thead th {\n",
              "        text-align: right;\n",
              "    }\n",
              "</style>\n",
              "<table border=\"1\" class=\"dataframe\">\n",
              "  <thead>\n",
              "    <tr style=\"text-align: right;\">\n",
              "      <th></th>\n",
              "      <th>energy_per_capita</th>\n",
              "      <th>population</th>\n",
              "      <th>primary_energy_consumption</th>\n",
              "    </tr>\n",
              "    <tr>\n",
              "      <th>year</th>\n",
              "      <th></th>\n",
              "      <th></th>\n",
              "      <th></th>\n",
              "    </tr>\n",
              "  </thead>\n",
              "  <tbody>\n",
              "    <tr>\n",
              "      <th>1900</th>\n",
              "      <td>0.000</td>\n",
              "      <td>3.752218e+09</td>\n",
              "      <td>0.000</td>\n",
              "    </tr>\n",
              "    <tr>\n",
              "      <th>1901</th>\n",
              "      <td>0.000</td>\n",
              "      <td>3.130448e+09</td>\n",
              "      <td>0.000</td>\n",
              "    </tr>\n",
              "    <tr>\n",
              "      <th>1902</th>\n",
              "      <td>0.000</td>\n",
              "      <td>3.152393e+09</td>\n",
              "      <td>0.000</td>\n",
              "    </tr>\n",
              "    <tr>\n",
              "      <th>1903</th>\n",
              "      <td>0.000</td>\n",
              "      <td>3.174763e+09</td>\n",
              "      <td>0.000</td>\n",
              "    </tr>\n",
              "    <tr>\n",
              "      <th>1904</th>\n",
              "      <td>0.000</td>\n",
              "      <td>3.197334e+09</td>\n",
              "      <td>0.000</td>\n",
              "    </tr>\n",
              "    <tr>\n",
              "      <th>...</th>\n",
              "      <td>...</td>\n",
              "      <td>...</td>\n",
              "      <td>...</td>\n",
              "    </tr>\n",
              "    <tr>\n",
              "      <th>2016</th>\n",
              "      <td>7332147.946</td>\n",
              "      <td>1.724308e+10</td>\n",
              "      <td>476124.282</td>\n",
              "    </tr>\n",
              "    <tr>\n",
              "      <th>2017</th>\n",
              "      <td>3678183.705</td>\n",
              "      <td>1.741803e+10</td>\n",
              "      <td>467018.352</td>\n",
              "    </tr>\n",
              "    <tr>\n",
              "      <th>2018</th>\n",
              "      <td>3698476.648</td>\n",
              "      <td>1.761886e+10</td>\n",
              "      <td>480191.058</td>\n",
              "    </tr>\n",
              "    <tr>\n",
              "      <th>2019</th>\n",
              "      <td>3659567.475</td>\n",
              "      <td>1.781811e+10</td>\n",
              "      <td>486582.867</td>\n",
              "    </tr>\n",
              "    <tr>\n",
              "      <th>2020</th>\n",
              "      <td>0.000</td>\n",
              "      <td>0.000000e+00</td>\n",
              "      <td>0.000</td>\n",
              "    </tr>\n",
              "  </tbody>\n",
              "</table>\n",
              "<p>121 rows × 3 columns</p>\n",
              "</div>\n",
              "      <button class=\"colab-df-convert\" onclick=\"convertToInteractive('df-15a69be9-1e7b-4448-a608-b22bee835e31')\"\n",
              "              title=\"Convert this dataframe to an interactive table.\"\n",
              "              style=\"display:none;\">\n",
              "        \n",
              "  <svg xmlns=\"http://www.w3.org/2000/svg\" height=\"24px\"viewBox=\"0 0 24 24\"\n",
              "       width=\"24px\">\n",
              "    <path d=\"M0 0h24v24H0V0z\" fill=\"none\"/>\n",
              "    <path d=\"M18.56 5.44l.94 2.06.94-2.06 2.06-.94-2.06-.94-.94-2.06-.94 2.06-2.06.94zm-11 1L8.5 8.5l.94-2.06 2.06-.94-2.06-.94L8.5 2.5l-.94 2.06-2.06.94zm10 10l.94 2.06.94-2.06 2.06-.94-2.06-.94-.94-2.06-.94 2.06-2.06.94z\"/><path d=\"M17.41 7.96l-1.37-1.37c-.4-.4-.92-.59-1.43-.59-.52 0-1.04.2-1.43.59L10.3 9.45l-7.72 7.72c-.78.78-.78 2.05 0 2.83L4 21.41c.39.39.9.59 1.41.59.51 0 1.02-.2 1.41-.59l7.78-7.78 2.81-2.81c.8-.78.8-2.07 0-2.86zM5.41 20L4 18.59l7.72-7.72 1.47 1.35L5.41 20z\"/>\n",
              "  </svg>\n",
              "      </button>\n",
              "      \n",
              "  <style>\n",
              "    .colab-df-container {\n",
              "      display:flex;\n",
              "      flex-wrap:wrap;\n",
              "      gap: 12px;\n",
              "    }\n",
              "\n",
              "    .colab-df-convert {\n",
              "      background-color: #E8F0FE;\n",
              "      border: none;\n",
              "      border-radius: 50%;\n",
              "      cursor: pointer;\n",
              "      display: none;\n",
              "      fill: #1967D2;\n",
              "      height: 32px;\n",
              "      padding: 0 0 0 0;\n",
              "      width: 32px;\n",
              "    }\n",
              "\n",
              "    .colab-df-convert:hover {\n",
              "      background-color: #E2EBFA;\n",
              "      box-shadow: 0px 1px 2px rgba(60, 64, 67, 0.3), 0px 1px 3px 1px rgba(60, 64, 67, 0.15);\n",
              "      fill: #174EA6;\n",
              "    }\n",
              "\n",
              "    [theme=dark] .colab-df-convert {\n",
              "      background-color: #3B4455;\n",
              "      fill: #D2E3FC;\n",
              "    }\n",
              "\n",
              "    [theme=dark] .colab-df-convert:hover {\n",
              "      background-color: #434B5C;\n",
              "      box-shadow: 0px 1px 3px 1px rgba(0, 0, 0, 0.15);\n",
              "      filter: drop-shadow(0px 1px 2px rgba(0, 0, 0, 0.3));\n",
              "      fill: #FFFFFF;\n",
              "    }\n",
              "  </style>\n",
              "\n",
              "      <script>\n",
              "        const buttonEl =\n",
              "          document.querySelector('#df-15a69be9-1e7b-4448-a608-b22bee835e31 button.colab-df-convert');\n",
              "        buttonEl.style.display =\n",
              "          google.colab.kernel.accessAllowed ? 'block' : 'none';\n",
              "\n",
              "        async function convertToInteractive(key) {\n",
              "          const element = document.querySelector('#df-15a69be9-1e7b-4448-a608-b22bee835e31');\n",
              "          const dataTable =\n",
              "            await google.colab.kernel.invokeFunction('convertToInteractive',\n",
              "                                                     [key], {});\n",
              "          if (!dataTable) return;\n",
              "\n",
              "          const docLinkHtml = 'Like what you see? Visit the ' +\n",
              "            '<a target=\"_blank\" href=https://colab.research.google.com/notebooks/data_table.ipynb>data table notebook</a>'\n",
              "            + ' to learn more about interactive tables.';\n",
              "          element.innerHTML = '';\n",
              "          dataTable['output_type'] = 'display_data';\n",
              "          await google.colab.output.renderOutput(dataTable, element);\n",
              "          const docLink = document.createElement('div');\n",
              "          docLink.innerHTML = docLinkHtml;\n",
              "          element.appendChild(docLink);\n",
              "        }\n",
              "      </script>\n",
              "    </div>\n",
              "  </div>\n",
              "  "
            ]
          },
          "metadata": {}
        }
      ]
    }
  ]
}